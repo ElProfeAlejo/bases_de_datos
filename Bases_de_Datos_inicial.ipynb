{
  "nbformat": 4,
  "nbformat_minor": 0,
  "metadata": {
    "colab": {
      "provenance": []
    },
    "kernelspec": {
      "name": "python3",
      "display_name": "Python 3"
    },
    "language_info": {
      "name": "python"
    }
  },
  "cells": [
    {
      "cell_type": "markdown",
      "metadata": {
        "id": "XWHZNDqvGVNE"
      },
      "source": [
        "#Creando Nombres"
      ]
    },
    {
      "cell_type": "code",
      "metadata": {
        "id": "eMlsysHDntKV"
      },
      "source": [
        "import pandas as pd"
      ],
      "execution_count": null,
      "outputs": []
    },
    {
      "cell_type": "code",
      "metadata": {
        "id": "CSMIak1xowfl"
      },
      "source": [
        "nombres_m = pd.read_json(\"https://servicodados.ibge.gov.br/api/v1/censos/nomes/ranking?sexo=M&qtd=200\")\n",
        "nombres_f = pd.read_json(\"https://servicodados.ibge.gov.br/api/v1/censos/nomes/ranking?sexo=F&qtd=200\")"
      ],
      "execution_count": null,
      "outputs": []
    }
  ]
}